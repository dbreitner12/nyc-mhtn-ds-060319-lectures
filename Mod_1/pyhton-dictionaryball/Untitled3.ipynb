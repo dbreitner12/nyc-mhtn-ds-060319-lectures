{
 "cells": [
  {
   "cell_type": "code",
   "execution_count": 1,
   "metadata": {},
   "outputs": [],
   "source": [
    "game_dictionary = {'home': {'team_name': 'Brooklyn Nets',\n",
    "                            'colors': ['Black', 'White'],\n",
    "                            'players': {'Alan Anderson': {\n",
    "                                            'number': 0,\n",
    "                                            'shoe': 16,\n",
    "                                            'points': 22,\n",
    "                                            'rebounds': 12,\n",
    "                                            'assists': 12,\n",
    "                                            'steals': 3,\n",
    "                                            'blocks': 1,\n",
    "                                            'slam_dunks': 1\n",
    "                                        },\n",
    "                                        'Reggie Evans': {\n",
    "                                            'number': 30,\n",
    "                                            'shoe': 14,\n",
    "                                            'points': 12,\n",
    "                                            'rebounds': 12,\n",
    "                                            'assists': 12,\n",
    "                                            'steals': 12,\n",
    "                                            'blocks': 12,\n",
    "                                            'slam_dunks': 7\n",
    "                                        },\n",
    "                                        'Brook Lopez': {\n",
    "                                            'number': 11,\n",
    "                                            'shoe': 17,\n",
    "                                            'points': 17,\n",
    "                                            'rebounds': 19,\n",
    "                                            'assists': 10,\n",
    "                                            'steals': 3,\n",
    "                                            'blocks': 1,\n",
    "                                            'slam_dunks': 15\n",
    "                                        },\n",
    "                                        'Mason Plumlee': {\n",
    "                                            'number': 1,\n",
    "                                            'shoe': 19,\n",
    "                                            'points': 26,\n",
    "                                            'rebounds': 12,\n",
    "                                            'assists': 6,\n",
    "                                            'steals': 3,\n",
    "                                            'blocks': 8,\n",
    "                                            'slam_dunks': 5\n",
    "                                        },\n",
    "                                        'Jason Terry': {\n",
    "                                            'number': 31,\n",
    "                                            'shoe': 15,\n",
    "                                            'points': 19,\n",
    "                                            'rebounds': 2,\n",
    "                                            'assists': 2,\n",
    "                                            'steals': 4,\n",
    "                                            'blocks': 11,\n",
    "                                            'slam_dunks': 1\n",
    "                                        }\n",
    "                                        }},\n",
    "                    'away': {'team_name': 'Charlotte Hornets',\n",
    "                            'colors': ['Turquoise', 'Purple'],\n",
    "                            'players': {'Jeff Adrien': {\n",
    "                                            'number': 4,\n",
    "                                            'shoe': 18,\n",
    "                                            'points': 10,\n",
    "                                            'rebounds': 1,\n",
    "                                            'assists': 1,\n",
    "                                            'steals': 2,\n",
    "                                            'blocks': 7,\n",
    "                                            'slam_dunks': 2\n",
    "                                        },\n",
    "                                        'Bismak Biyombo': {\n",
    "                                            'number': 0,\n",
    "                                            'shoe': 16,\n",
    "                                            'points': 12,\n",
    "                                            'rebounds': 4,\n",
    "                                            'assists': 7,\n",
    "                                            'steals': 7,\n",
    "                                            'blocks': 15,\n",
    "                                            'slam_dunks': 10\n",
    "                                        },\n",
    "                                        'DeSagna Diop': {\n",
    "                                            'number': 2,\n",
    "                                            'shoe': 14,\n",
    "                                            'points': 24,\n",
    "                                            'rebounds': 12,\n",
    "                                            'assists': 12,\n",
    "                                            'steals': 4,\n",
    "                                            'blocks': 5,\n",
    "                                            'slam_dunks': 5\n",
    "                                        },\n",
    "                                        'Ben Gordon': {\n",
    "                                            'number': 8,\n",
    "                                            'shoe': 15,\n",
    "                                            'points': 33,\n",
    "                                            'rebounds': 3,\n",
    "                                            'assists': 2,\n",
    "                                            'steals': 1,\n",
    "                                            'blocks': 1,\n",
    "                                            'slam_dunks': 0\n",
    "                                        },\n",
    "                                        'Brendan Haywood': {\n",
    "                                            'number': 33,\n",
    "                                            'shoe': 15,\n",
    "                                            'points': 6,\n",
    "                                            'rebounds': 12,\n",
    "                                            'assists': 12,\n",
    "                                            'steals': 22,\n",
    "                                            'blocks': 5,\n",
    "                                            'slam_dunks': 12\n",
    "                                        }}}}"
   ]
  },
  {
   "cell_type": "code",
   "execution_count": 2,
   "metadata": {},
   "outputs": [
    {
     "data": {
      "text/plain": [
       "{'home': {'team_name': 'Brooklyn Nets',\n",
       "  'colors': ['Black', 'White'],\n",
       "  'players': {'Alan Anderson': {'number': 0,\n",
       "    'shoe': 16,\n",
       "    'points': 22,\n",
       "    'rebounds': 12,\n",
       "    'assists': 12,\n",
       "    'steals': 3,\n",
       "    'blocks': 1,\n",
       "    'slam_dunks': 1},\n",
       "   'Reggie Evans': {'number': 30,\n",
       "    'shoe': 14,\n",
       "    'points': 12,\n",
       "    'rebounds': 12,\n",
       "    'assists': 12,\n",
       "    'steals': 12,\n",
       "    'blocks': 12,\n",
       "    'slam_dunks': 7},\n",
       "   'Brook Lopez': {'number': 11,\n",
       "    'shoe': 17,\n",
       "    'points': 17,\n",
       "    'rebounds': 19,\n",
       "    'assists': 10,\n",
       "    'steals': 3,\n",
       "    'blocks': 1,\n",
       "    'slam_dunks': 15},\n",
       "   'Mason Plumlee': {'number': 1,\n",
       "    'shoe': 19,\n",
       "    'points': 26,\n",
       "    'rebounds': 12,\n",
       "    'assists': 6,\n",
       "    'steals': 3,\n",
       "    'blocks': 8,\n",
       "    'slam_dunks': 5},\n",
       "   'Jason Terry': {'number': 31,\n",
       "    'shoe': 15,\n",
       "    'points': 19,\n",
       "    'rebounds': 2,\n",
       "    'assists': 2,\n",
       "    'steals': 4,\n",
       "    'blocks': 11,\n",
       "    'slam_dunks': 1}}},\n",
       " 'away': {'team_name': 'Charlotte Hornets',\n",
       "  'colors': ['Turquoise', 'Purple'],\n",
       "  'players': {'Jeff Adrien': {'number': 4,\n",
       "    'shoe': 18,\n",
       "    'points': 10,\n",
       "    'rebounds': 1,\n",
       "    'assists': 1,\n",
       "    'steals': 2,\n",
       "    'blocks': 7,\n",
       "    'slam_dunks': 2},\n",
       "   'Bismak Biyombo': {'number': 0,\n",
       "    'shoe': 16,\n",
       "    'points': 12,\n",
       "    'rebounds': 4,\n",
       "    'assists': 7,\n",
       "    'steals': 7,\n",
       "    'blocks': 15,\n",
       "    'slam_dunks': 10},\n",
       "   'DeSagna Diop': {'number': 2,\n",
       "    'shoe': 14,\n",
       "    'points': 24,\n",
       "    'rebounds': 12,\n",
       "    'assists': 12,\n",
       "    'steals': 4,\n",
       "    'blocks': 5,\n",
       "    'slam_dunks': 5},\n",
       "   'Ben Gordon': {'number': 8,\n",
       "    'shoe': 15,\n",
       "    'points': 33,\n",
       "    'rebounds': 3,\n",
       "    'assists': 2,\n",
       "    'steals': 1,\n",
       "    'blocks': 1,\n",
       "    'slam_dunks': 0},\n",
       "   'Brendan Haywood': {'number': 33,\n",
       "    'shoe': 15,\n",
       "    'points': 6,\n",
       "    'rebounds': 12,\n",
       "    'assists': 12,\n",
       "    'steals': 22,\n",
       "    'blocks': 5,\n",
       "    'slam_dunks': 12}}}}"
      ]
     },
     "execution_count": 2,
     "metadata": {},
     "output_type": "execute_result"
    }
   ],
   "source": [
    "game_dictionary"
   ]
  },
  {
   "cell_type": "code",
   "execution_count": 7,
   "metadata": {},
   "outputs": [
    {
     "data": {
      "text/plain": [
       "dict_values([{'team_name': 'Brooklyn Nets', 'colors': ['Black', 'White'], 'players': {'Alan Anderson': {'number': 0, 'shoe': 16, 'points': 22, 'rebounds': 12, 'assists': 12, 'steals': 3, 'blocks': 1, 'slam_dunks': 1}, 'Reggie Evans': {'number': 30, 'shoe': 14, 'points': 12, 'rebounds': 12, 'assists': 12, 'steals': 12, 'blocks': 12, 'slam_dunks': 7}, 'Brook Lopez': {'number': 11, 'shoe': 17, 'points': 17, 'rebounds': 19, 'assists': 10, 'steals': 3, 'blocks': 1, 'slam_dunks': 15}, 'Mason Plumlee': {'number': 1, 'shoe': 19, 'points': 26, 'rebounds': 12, 'assists': 6, 'steals': 3, 'blocks': 8, 'slam_dunks': 5}, 'Jason Terry': {'number': 31, 'shoe': 15, 'points': 19, 'rebounds': 2, 'assists': 2, 'steals': 4, 'blocks': 11, 'slam_dunks': 1}}}, {'team_name': 'Charlotte Hornets', 'colors': ['Turquoise', 'Purple'], 'players': {'Jeff Adrien': {'number': 4, 'shoe': 18, 'points': 10, 'rebounds': 1, 'assists': 1, 'steals': 2, 'blocks': 7, 'slam_dunks': 2}, 'Bismak Biyombo': {'number': 0, 'shoe': 16, 'points': 12, 'rebounds': 4, 'assists': 7, 'steals': 7, 'blocks': 15, 'slam_dunks': 10}, 'DeSagna Diop': {'number': 2, 'shoe': 14, 'points': 24, 'rebounds': 12, 'assists': 12, 'steals': 4, 'blocks': 5, 'slam_dunks': 5}, 'Ben Gordon': {'number': 8, 'shoe': 15, 'points': 33, 'rebounds': 3, 'assists': 2, 'steals': 1, 'blocks': 1, 'slam_dunks': 0}, 'Brendan Haywood': {'number': 33, 'shoe': 15, 'points': 6, 'rebounds': 12, 'assists': 12, 'steals': 22, 'blocks': 5, 'slam_dunks': 12}}}])"
      ]
     },
     "execution_count": 7,
     "metadata": {},
     "output_type": "execute_result"
    }
   ],
   "source": [
    "game_dictionary.values()"
   ]
  },
  {
   "cell_type": "code",
   "execution_count": 11,
   "metadata": {},
   "outputs": [
    {
     "name": "stdout",
     "output_type": "stream",
     "text": [
      "Brooklyn Nets\n"
     ]
    }
   ],
   "source": [
    "def home_team_name():\n",
    "    return game_dictionary['home']['team_name']\n",
    "\n",
    "print(home_team_name())"
   ]
  },
  {
   "cell_type": "code",
   "execution_count": 19,
   "metadata": {},
   "outputs": [],
   "source": [
    "def good_practices():\n",
    "    for location, team_stats in game_dict().items():\n",
    "    # are you ABSOLUTELY SURE what 'location' and 'team_stats' are? use pdb.set_trace() to find out!\n",
    "        import pdb; pdb.set_trace()\n",
    "    for stats, data in team_stats.items():\n",
    "        # are you ABSOLUTELY SURE what 'stats' and 'data' are? use pdb.set_trace() to find out!\n",
    "        import pdb; pdb.set_trace()\n",
    "        # what is 'data' at each level of the for loop block? when will we be able to iterate through a list? \n",
    "        # When would the following line of code break?\n",
    "        for item in data:\n",
    "            print(item)"
   ]
  },
  {
   "cell_type": "code",
   "execution_count": 91,
   "metadata": {},
   "outputs": [],
   "source": [
    "def team_colors(name_of_team):\n",
    "    for i in game_dictionary:\n",
    "        if game_dictionary[i]['team_name'] == name_of_team:\n",
    "            return game_dictionary[i]['colors']"
   ]
  },
  {
   "cell_type": "code",
   "execution_count": 92,
   "metadata": {},
   "outputs": [
    {
     "name": "stdout",
     "output_type": "stream",
     "text": [
      "['Black', 'White']\n"
     ]
    }
   ],
   "source": [
    "print(team_colors('Brooklyn Nets'))"
   ]
  },
  {
   "cell_type": "code",
   "execution_count": 93,
   "metadata": {},
   "outputs": [],
   "source": [
    "def num_points_scored(name):\n",
    "    name = name.title()\n",
    "    for home_away in game_dictionary:\n",
    "        for player in game_dictionary[home_away]['players']:\n",
    "            if player == name:\n",
    "                return game_dictionary[home_away]['players'][name]['points']"
   ]
  },
  {
   "cell_type": "code",
   "execution_count": 94,
   "metadata": {},
   "outputs": [
    {
     "data": {
      "text/plain": [
       "33"
      ]
     },
     "execution_count": 94,
     "metadata": {},
     "output_type": "execute_result"
    }
   ],
   "source": [
    "num_points_scored('Ben Gordon')"
   ]
  },
  {
   "cell_type": "code",
   "execution_count": 95,
   "metadata": {},
   "outputs": [],
   "source": [
    "def shoe_size(name):\n",
    "    name = name.title()\n",
    "    for home_away in game_dictionary:\n",
    "        for player in game_dictionary[home_away]['players']:\n",
    "            if player == name:\n",
    "                return game_dictionary[home_away]['players'][name]['shoe']"
   ]
  },
  {
   "cell_type": "code",
   "execution_count": 96,
   "metadata": {
    "scrolled": true
   },
   "outputs": [
    {
     "data": {
      "text/plain": [
       "15"
      ]
     },
     "execution_count": 96,
     "metadata": {},
     "output_type": "execute_result"
    }
   ],
   "source": [
    "shoe_size('Ben Gordon')"
   ]
  },
  {
   "cell_type": "code",
   "execution_count": null,
   "metadata": {},
   "outputs": [],
   "source": [
    "def team_colors(name_of_team):\n",
    "    name_of_team = name_of_team.title()\n",
    "    for i in game_dictionary:\n",
    "        if game_dictionary[i]['team_name'] == name_of_team:\n",
    "            return game_dictionary[i]['colors']"
   ]
  },
  {
   "cell_type": "code",
   "execution_count": 150,
   "metadata": {},
   "outputs": [],
   "source": [
    "def players_numbers(name_of_team):\n",
    "    name_of_team = name_of_team.title()\n",
    "    list_of_numbers =[]\n",
    "    for i in game_dictionary:\n",
    "        if game_dictionary[i]['team_name'] == name_of_team:\n",
    "            for player in game_dictionary[i]['players']:\n",
    "                list_of_numbers.append(game_dictionary[i]['players'][player]['number'])\n",
    "            return list_of_numbers\n",
    "    "
   ]
  },
  {
   "cell_type": "code",
   "execution_count": 200,
   "metadata": {
    "scrolled": true
   },
   "outputs": [],
   "source": [
    "def player_stats(name):\n",
    "    for i in game_dictionary:\n",
    "        for x in game_dictionary[i]['players']:\n",
    "            if x == name:\n",
    "                return game_dictionary[i]['players'][name]"
   ]
  },
  {
   "cell_type": "code",
   "execution_count": 319,
   "metadata": {},
   "outputs": [],
   "source": [
    "def big_shoe_rebounds():\n",
    "    big_shoes = []\n",
    "    for i in game_dictionary:\n",
    "        for x in game_dictionary[i]['players']:\n",
    "            big_shoes.append(game_dictionary[i]['players'][x]['shoe'])\n",
    "    shoe_big = max(big_shoes)\n",
    "    for i in game_dictionary:\n",
    "        for x in game_dictionary[i]['players']:\n",
    "            if game_dictionary[i]['players'][x]['shoe'] == shoe_big:\n",
    "                return game_dictionary[i]['players'][x]['rebounds']\n",
    "\n",
    "def shoe_rebounds(shoe):\n",
    "    for i in game_dictionary:\n",
    "        for x in game_dictionary[i]['players']:\n",
    "            if game_dictionary[i]['players'][x]['shoe'] == shoe:\n",
    "                return game_dictionary[i]['players'][x]['rebounds']\n",
    "        \n",
    "            \n",
    "    \n",
    "\n",
    "\n",
    "#             if shoe_big == game_dictionary[i]['players'][x]['shoe']:\n",
    "#                 return game_dictionary[i]['players'][x]['rebounds']\n",
    "            \n",
    "        "
   ]
  },
  {
   "cell_type": "code",
   "execution_count": null,
   "metadata": {},
   "outputs": [],
   "source": [
    "def most_points_scored():\n",
    "    for i in game_dictionary:"
   ]
  },
  {
   "cell_type": "code",
   "execution_count": 332,
   "metadata": {},
   "outputs": [],
   "source": [
    "def most_player_points():\n",
    "    most_points = []\n",
    "    for i in game_dictionary:\n",
    "        for x in game_dictionary[i]['players']:\n",
    "            most_points.append(game_dictionary[i]['players'][x]['points'])\n",
    "    leading_scorer = max(most_points)\n",
    "    for i in game_dictionary:\n",
    "        for x in game_dictionary[i]['players']:\n",
    "            if game_dictionary[i]['players'][x]['points'] == leading_scorer:\n",
    "                return x"
   ]
  },
  {
   "cell_type": "code",
   "execution_count": null,
   "metadata": {},
   "outputs": [],
   "source": []
  },
  {
   "cell_type": "code",
   "execution_count": 350,
   "metadata": {},
   "outputs": [],
   "source": [
    "def winning_team():\n",
    "    home_team_points = sum([game_dictionary['home']['players'][x]['points'] for x in game_dictionary['home']['players']])\n",
    "    away_team_points = sum([game_dictionary['away']['players'][x]['points'] for x in game_dictionary['away']['players']])\n",
    "    if home_team_points > away_team_points:\n",
    "        return game_dictionary['home']['team_name']\n",
    "    else:\n",
    "        return game_dictionary['away']['team_name']\n",
    "    "
   ]
  },
  {
   "cell_type": "code",
   "execution_count": 389,
   "metadata": {},
   "outputs": [],
   "source": [
    "def player_with_longest_name():\n",
    "    names_of_players = []\n",
    "    length_of_names = []\n",
    "    for i in game_dictionary:\n",
    "        for x in game_dictionary[i]['players']:\n",
    "            names_of_players.append(x)\n",
    "    for y in names_of_players:\n",
    "        length_of_names.append((len(y),y))\n",
    "    return sorted(length_of_names)[-1]\n",
    "    \n",
    "        \n",
    "    \n",
    "    \n",
    "   "
   ]
  },
  {
   "cell_type": "code",
   "execution_count": 399,
   "metadata": {},
   "outputs": [
    {
     "data": {
      "text/plain": [
       "(15, 'Brendan Haywood')"
      ]
     },
     "execution_count": 399,
     "metadata": {},
     "output_type": "execute_result"
    }
   ],
   "source": [
    "player_with_longest_name()"
   ]
  },
  {
   "cell_type": "code",
   "execution_count": 410,
   "metadata": {},
   "outputs": [],
   "source": [
    "def long_name_steals_a_ton():\n",
    "    names_of_players = []\n",
    "    for i in game_dictionary:\n",
    "        for x in game_dictionary[i]['players']:\n",
    "            names_of_players.append((game_dictionary[i]['players'][x]['steals'],x))\n",
    "    return player_with_longest_name()[1] == sorted(names_of_players)[-1][1]\n",
    "        \n",
    "               "
   ]
  },
  {
   "cell_type": "code",
   "execution_count": 411,
   "metadata": {},
   "outputs": [
    {
     "data": {
      "text/plain": [
       "True"
      ]
     },
     "execution_count": 411,
     "metadata": {},
     "output_type": "execute_result"
    }
   ],
   "source": [
    "long_name_steals_a_ton()"
   ]
  },
  {
   "cell_type": "code",
   "execution_count": null,
   "metadata": {},
   "outputs": [],
   "source": []
  }
 ],
 "metadata": {
  "kernelspec": {
   "display_name": "learn-env",
   "language": "python",
   "name": "learn-env"
  },
  "language_info": {
   "codemirror_mode": {
    "name": "ipython",
    "version": 3
   },
   "file_extension": ".py",
   "mimetype": "text/x-python",
   "name": "python",
   "nbconvert_exporter": "python",
   "pygments_lexer": "ipython3",
   "version": "3.7.1"
  }
 },
 "nbformat": 4,
 "nbformat_minor": 2
}
