{
 "cells": [
  {
   "cell_type": "markdown",
   "metadata": {},
   "source": [
    "<h1 style='text-align:center'>Project Management</h1>"
   ]
  },
  {
   "cell_type": "markdown",
   "metadata": {},
   "source": [
    "## Working Together"
   ]
  },
  {
   "cell_type": "markdown",
   "metadata": {},
   "source": [
    "<img src='images/teamwork.gif'/>"
   ]
  },
  {
   "cell_type": "markdown",
   "metadata": {},
   "source": [
    "#### Steps of a Data Science Project"
   ]
  },
  {
   "cell_type": "markdown",
   "metadata": {},
   "source": [
    "- Define the problem\n",
    "- Where to get data from\n",
    "    - Dataset\n",
    "    - API\n",
    "    - Web Scraping\n",
    "- Data Cleaning\n",
    "- EDA\n",
    "- Modeling\n",
    "- Validation\n",
    "- Readme, Final notebooks\n"
   ]
  },
  {
   "cell_type": "markdown",
   "metadata": {},
   "source": [
    "#### Guidelines for working together"
   ]
  },
  {
   "cell_type": "markdown",
   "metadata": {},
   "source": [
    "- Discuss how you each prefer to work, strengths/weaknesses, things you’re really interested in working on \n",
    "- Create a workflow that is going to work for the both of you\n",
    "- After deciding on a project topic or dataset you want to explore, break down the Data Gathering process into small steps (call data from “x” API, scrape “y” website, clean data, merge data etc.) \n",
    "    - If a particular task is complex split it even further - i.e. you have multiple pages of the same website that need to be scraped and each require different scripts then each script is a different task \n",
    "    - Each unique API and website should be a separate task\n",
    "- Assign/Pick one to two tasks (2-4 hours of work worth of tasks) for each partner.\n",
    "- After task(s) are complete, meet up and review each others code, ask/answer questions, marge code (if applicable) and cross test  \n",
    "- Repeat this process until all tasks for Data Gathering are done. \n",
    "- Continue with this process for the remainder of the major steps (EDA, Modeling, Validation, Final Cleanup/Readme) \n",
    "\n"
   ]
  },
  {
   "cell_type": "markdown",
   "metadata": {},
   "source": [
    "## Collaborating on Git"
   ]
  },
  {
   "cell_type": "markdown",
   "metadata": {},
   "source": [
    "We use git (and GitHub) to collaborate on a project. Many people can work on a single project simultaneously. \n",
    "\n",
    "Generally, many people can work on the same file and when ready, git allows you to merge the file into one file. Git also has tools to help manage any conflicts that might arise in the merging process. \n",
    "\n",
    "When working with Jupyter Notebooks, certain considerations to be made because git cannot cleanly merge .ipynb files. Therefore, when working in pairs, use separate notebooks (different names) to test code and utilize functions in .py files for easy merging. \n"
   ]
  },
  {
   "cell_type": "markdown",
   "metadata": {},
   "source": [
    "#### Perform the following steps with partners: \n",
    "\n",
    "- One person initializes a git repository on GitHub \n",
    "- Add other person(s) as collaborators on GitHub (under settings)\n",
    "- Both partners clone down repository onto their own computers\n",
    "- Both partners create a new branch on their local repository 'git checkout -b name-wip-what-you-are-working-on'\n",
    "- Both partners create a new .ipynb file with different names\n",
    "- Git add *, git commit -m \"message\", git push (you'll see an error - follow the instruction) \n",
    "- Create a pull request \n",
    "- Marvel in your mastery of git"
   ]
  },
  {
   "cell_type": "markdown",
   "metadata": {},
   "source": [
    "## Clean Notebooks"
   ]
  },
  {
   "cell_type": "markdown",
   "metadata": {},
   "source": [
    "#### Why do notebooks need to kept clean? \n",
    "\n",
    "#### Why should we comment our code? "
   ]
  },
  {
   "cell_type": "markdown",
   "metadata": {},
   "source": [
    "### Work in Pairs\n",
    "- Cleanup code below (create functions, import from importme.py)\n",
    "- Push to GitHub\n",
    "- Create pull request"
   ]
  },
  {
   "cell_type": "code",
   "execution_count": null,
   "metadata": {},
   "outputs": [],
   "source": [
    "import pandas as pd\n",
    "import numpy as np\n",
    "import matplotlib.pyplot as plt\n",
    "\n",
    "df = pd.read_csv('baseball_stats.csv')"
   ]
  },
  {
   "cell_type": "code",
   "execution_count": null,
   "metadata": {},
   "outputs": [],
   "source": [
    "teams = df.name.unique()"
   ]
  },
  {
   "cell_type": "code",
   "execution_count": null,
   "metadata": {},
   "outputs": [],
   "source": [
    "df['team_ratio'] = df['wins']/df['runs_scored']"
   ]
  },
  {
   "cell_type": "code",
   "execution_count": null,
   "metadata": {},
   "outputs": [],
   "source": [
    "team_ratio = df[df.name == 'Arizona Diamondbacks'][['year', 'team_ratio']]"
   ]
  },
  {
   "cell_type": "code",
   "execution_count": null,
   "metadata": {},
   "outputs": [],
   "source": [
    "plt.bar(team_ratio['year'], team_ratio['team_ratio'])"
   ]
  }
 ],
 "metadata": {
  "kernelspec": {
   "display_name": "Python 3",
   "language": "python",
   "name": "python3"
  },
  "language_info": {
   "codemirror_mode": {
    "name": "ipython",
    "version": 3
   },
   "file_extension": ".py",
   "mimetype": "text/x-python",
   "name": "python",
   "nbconvert_exporter": "python",
   "pygments_lexer": "ipython3",
   "version": "3.7.1"
  }
 },
 "nbformat": 4,
 "nbformat_minor": 2
}
